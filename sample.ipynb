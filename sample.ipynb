{
 "cells": [
  {
   "cell_type": "code",
   "execution_count": 1,
   "metadata": {},
   "outputs": [
    {
     "data": {
      "text/plain": [
       "<module 'quadsim' from 'C:\\\\Users\\\\Kasey Adams\\\\3 SURF\\\\Merge-of-2D-3D-sim-7f1f2054c9e8fe23b80349482c13019f23cdd4c2\\\\quadsim.py'>"
      ]
     },
     "execution_count": 1,
     "metadata": {},
     "output_type": "execute_result"
    }
   ],
   "source": [
    "import numpy as np\n",
    "import matplotlib.pyplot as plt\n",
    "from mpl_toolkits import mplot3d\n",
    "\n",
    "# import ctrlbaseline\n",
    "import quadsim\n",
    "import controller\n",
    "import trajectory\n",
    "\n",
    "import importlib\n",
    "\n",
    "importlib.reload(controller)\n",
    "importlib.reload(quadsim)"
   ]
  },
  {
   "cell_type": "code",
   "execution_count": 2,
   "metadata": {},
   "outputs": [
    {
     "ename": "SyntaxError",
     "evalue": "unexpected EOF while parsing (<ipython-input-2-b85b0d70478b>, line 11)",
     "output_type": "error",
     "traceback": [
      "\u001b[1;36m  File \u001b[1;32m\"<ipython-input-2-b85b0d70478b>\"\u001b[1;36m, line \u001b[1;32m11\u001b[0m\n\u001b[1;33m    bestparamfile.write(\"K_i = \" + str(K_i) + \", K_p = \" + str(K_p) + \", K_d = \" + str(K_d) + \", mse = \" + str(np.mean(np.sum((log['X'][:, 0:3] - log['pd'][:])**2,1)) + \"\\n\")\u001b[0m\n\u001b[1;37m                                                                                                                                                                              ^\u001b[0m\n\u001b[1;31mSyntaxError\u001b[0m\u001b[1;31m:\u001b[0m unexpected EOF while parsing\n"
     ]
    }
   ],
   "source": [
    "for i in range(0,11):\n",
    "    for j in range(0,11):\n",
    "        for k in range(0,11):\n",
    "            K_i = i / 4\n",
    "            K_p = j / 2\n",
    "            K_d = k\n",
    "            c = controller.Baseline() # controller.BaselineNoFdFwd()\n",
    "            q = quadsim.Quadrotor() # Quadrotor\n",
    "            log = q.run(controller=c, K_i = K_i, K_d = K_d, K_p = K_p)\n",
    "            bestparamfile = open(\"bestparamfile.txt\", \"a\")\n",
    "            bestparamfile.write(\"K_i = \" + str(K_i) + \", K_p = \" + str(K_p) + \", K_d = \" + str(K_d) + \", mse = \" + str(np.mean(np.sum((log['X'][:, 0:3] - log['pd'][:])**2,1)) + \"\\n\")\n",
    "            bestparamfile.close()"
   ]
  },
  {
   "cell_type": "code",
   "execution_count": null,
   "metadata": {},
   "outputs": [],
   "source": []
  },
  {
   "cell_type": "code",
   "execution_count": null,
   "metadata": {
    "scrolled": false
   },
   "outputs": [],
   "source": [
    "plt.figure(figsize=(20,10))\n",
    "ax = plt.axes(projection='3d')\n",
    "#ax.set_xlim3d([-5, 15])\n",
    "ax.set_xlabel('X')\n",
    "#ax.set_ylim3d([-10, 10])\n",
    "ax.set_ylabel('Y')\n",
    "#ax.set_zlim3d([-10, 10])\n",
    "ax.set_zlabel('Z')\n",
    "print(log['pd'])\n",
    "ax.plot3D(log['X'][:,0],log['X'][:,1], log['X'][:,2])\n",
    "ax.plot3D(log['pd'][:,0],log['pd'][:,1], log['pd'][:,2])\n",
    "plt.legend(( 'actual trajectory', 'desired trajectory'))\n",
    "\n",
    "sp = np.array([0, 0, 0])\n",
    "ep = np.array([10.0, 0.0, 0.0])\n",
    "ax.scatter3D(sp[0], sp[1], sp[2],c='red', s=50)\n",
    "ax.scatter3D(ep[0], ep[1], ep[2],c='green', s=50)\n",
    "ax.set_xlabel('x',size = 20)\n",
    "ax.set_ylabel('y',size = 20)\n",
    "ax.set_zlabel('z',size = 20)\n",
    "#plt.plot(log['pd'][:,0], log['pd'][:,1], log['pd'][:,2])\n",
    "# plt.savefig('sideforce.png')mm\n",
    "plt.show()\n",
    "print('mse = ', np.mean(np.sum((log['X'][:, 0:3] - log['pd'][:])**2,1)))"
   ]
  },
  {
   "cell_type": "code",
   "execution_count": null,
   "metadata": {},
   "outputs": [],
   "source": [
    "track = RRT.position()\n",
    "plt.plot(track[0,:])\n",
    "plt.xlabel('iterations',size = 10)\n",
    "plt.ylabel('distance to goal',size = 10)"
   ]
  },
  {
   "cell_type": "code",
   "execution_count": null,
   "metadata": {},
   "outputs": [],
   "source": [
    "plt.figure()\n",
    "plt.plot(log['t'], log['X'][:,0])\n",
    "plt.plot(log['t'], log['pd'][:,0])\n",
    "plt.xlabel('time (s)',size = 10)\n",
    "plt.ylabel('x value (m)',size = 10)\n",
    "plt.legend(('x act', 'x des',))\n",
    "\n",
    "plt.figure()\n",
    "plt.plot(log['t'], log['X'][:,1])\n",
    "plt.plot(log['t'], log['pd'][:,1])\n",
    "plt.xlabel('time (s)',size = 10)\n",
    "plt.ylabel('y value (m)',size = 10)\n",
    "plt.legend(( 'y act', 'y des'))\n",
    "\n",
    "plt.figure()\n",
    "plt.plot(log['t'], log['X'][:,2])\n",
    "plt.plot(log['t'], log['pd'][:,2])\n",
    "plt.xlabel('time (s)',size = 10)\n",
    "plt.ylabel('z value (m)',size = 10)\n",
    "plt.legend(( 'z act', 'z des'))\n",
    "\n",
    "plt.figure()\n",
    "plt.plot(log['t'], np.sum((log['X'][:, 0:3] - log['pd'][:])**2,1))"
   ]
  },
  {
   "cell_type": "code",
   "execution_count": null,
   "metadata": {},
   "outputs": [],
   "source": [
    "plt.plot(log['t'], log['f_u'][:,2])\n",
    "plt.plot(log['t'], log['T_d'])\n",
    "plt.legend(('actual thrust', 'desired thrust'))"
   ]
  },
  {
   "cell_type": "markdown",
   "metadata": {},
   "source": [
    "plt.plot(log['X'][:,6])\n",
    "plt.plot(log['th_r'][:,0])\n",
    "plt.legend(('observed qw', 'reference qw',))\n",
    "plt.figure()\n",
    "\n",
    "plt.plot(log['X'][:,7])\n",
    "plt.plot(log['th_r'][:,1])\n",
    "plt.legend(('observed qx', 'reference qx',))\n",
    "plt.figure()\n",
    "\n",
    "plt.plot(log['X'][:,8])\n",
    "plt.plot(log['th_r'][:,2])\n",
    "plt.legend(('observed qy', 'reference qy',))\n",
    "plt.figure()\n",
    "\n",
    "plt.plot(log['X'][:,9])\n",
    "plt.plot(log['th_r'][:,3])\n",
    "plt.legend(('observed qz', 'reference qz',))\n",
    "plt.figure()\n"
   ]
  },
  {
   "cell_type": "code",
   "execution_count": null,
   "metadata": {},
   "outputs": [],
   "source": []
  }
 ],
 "metadata": {
  "kernelspec": {
   "display_name": "Python 3",
   "language": "python",
   "name": "python3"
  },
  "language_info": {
   "codemirror_mode": {
    "name": "ipython",
    "version": 3
   },
   "file_extension": ".py",
   "mimetype": "text/x-python",
   "name": "python",
   "nbconvert_exporter": "python",
   "pygments_lexer": "ipython3",
   "version": "3.7.6"
  }
 },
 "nbformat": 4,
 "nbformat_minor": 2
}
